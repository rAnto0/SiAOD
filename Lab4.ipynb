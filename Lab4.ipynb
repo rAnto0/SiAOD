{
 "cells": [
  {
   "cell_type": "markdown",
   "metadata": {
    "id": "0z3KlfKDn4_K"
   },
   "source": [
    "# Лабораторная работа 4. \n",
    "# Методы поиска.\n"
   ]
  },
  {
   "cell_type": "markdown",
   "metadata": {
    "id": "96Gi_LEvmSVH"
   },
   "source": [
    "## Выполнил студент группы БФИ2201 Балыко Владислав Васильевич\n",
    "***"
   ]
  },
  {
   "cell_type": "markdown",
   "metadata": {
    "id": "GjdIp8aToKIe"
   },
   "source": [
    "### Цель\n",
    "\n",
    "Реализовать методы поиска в соответствии с заданием. Организовать генерацию начального набора случайных данных. Для всех вариантов добавить реализацию добавления, поиска и удаления элементов. Оценить время работы каждого алгоритма поиска и сравнить его со временем работы стандартной функции поиска, используемой в выбранном языке программирования."
   ]
  },
  {
   "cell_type": "markdown",
   "metadata": {
    "id": "LhhUXrAmotIA"
   },
   "source": [
    "### Алгоритмы:\n",
    "\n",
    "Бинарный поиск | Бинарное дерево | Фибоначчиев | Интерполяционный| Простое рехэширование | Рехэширование с помощью псевдослучайных чисел | Метод цепочек\n",
    "\n"
   ]
  },
  {
   "cell_type": "markdown",
   "metadata": {
    "id": "Wggfn8l7nG72"
   },
   "source": [
    "## Выполнение:"
   ]
  },
  {
   "cell_type": "markdown",
   "metadata": {},
   "source": [
    "### Задание 1"
   ]
  },
  {
   "cell_type": "code",
   "execution_count": 1,
   "metadata": {},
   "outputs": [],
   "source": [
    "import random\n",
    "import timeit"
   ]
  },
  {
   "cell_type": "code",
   "execution_count": 2,
   "metadata": {
    "id": "681a95mZnOSa"
   },
   "outputs": [
    {
     "name": "stdout",
     "output_type": "stream",
     "text": [
      "Исходный массив\n",
      "__________________________\n",
      "Сгенерированный массив: [4, 22, 41, 45, 134, 161, 290, 291, 307, 392, 546, 629, 751, 763, 891, 914, 925, 959, 977, 987]\n",
      "Элемент который нужно найти: 307\n"
     ]
    }
   ],
   "source": [
    "# Сгенерировать массив\n",
    "def generate_arr():\n",
    "    length = int(input(\"Введите длину массива: \"))\n",
    "    min_val = int(input(\"Введите минимальное число в массиве: \"))\n",
    "    max_val = int(input(\"Введите максимальное число в массиве: \"))\n",
    "    arr = [random.randint(min_val, max_val) for _ in range(length)]\n",
    "    arr.sort()\n",
    "    print(\"Сгенерированный массив:\", arr)\n",
    "    return arr\n",
    "\n",
    "\n",
    "# Генерация массива\n",
    "print(\"Исходный массив\\n__________________________\")\n",
    "array = generate_arr()\n",
    "find_elem = int(input(\"Введите элемент, который хотите найти: \"))\n",
    "print(f'Элемент который нужно найти: {find_elem}')"
   ]
  },
  {
   "cell_type": "code",
   "execution_count": 3,
   "metadata": {},
   "outputs": [],
   "source": [
    "# Бинарный поиск\n",
    "def binary_search(arr, x):\n",
    "    l, r = 0, len(arr) - 1\n",
    "    while l <= r:\n",
    "        m = (l + r) // 2\n",
    "        if arr[m] < x:\n",
    "            l = m + 1\n",
    "        elif arr[m] > x:\n",
    "            r = m - 1\n",
    "        else:\n",
    "            return m\n",
    "    return -1"
   ]
  },
  {
   "cell_type": "code",
   "execution_count": 4,
   "metadata": {},
   "outputs": [
    {
     "name": "stdout",
     "output_type": "stream",
     "text": [
      "Бинарное дерево (in-order): [12, 14, 23, 32, 56, 78]\n"
     ]
    }
   ],
   "source": [
    "# Класс узла\n",
    "class Node:\n",
    "    def __init__(self, key):\n",
    "        self.left = None\n",
    "        self.right = None\n",
    "        self.val = key\n",
    "\n",
    "\n",
    "# Класс бинарного дерева\n",
    "class BinaryTree:\n",
    "    def __init__(self):\n",
    "        self.root = None\n",
    "\n",
    "    def insert(self, key):\n",
    "        if self.root is None:\n",
    "            self.root = Node(key)\n",
    "        else:\n",
    "            self._insert(key, self.root)\n",
    "\n",
    "    def _insert(self, key, node):\n",
    "        if key < node.val:\n",
    "            if node.left is None:\n",
    "                node.left = Node(key)\n",
    "            else:\n",
    "                self._insert(key, node.left)\n",
    "        else:\n",
    "            if node.right is None:\n",
    "                node.right = Node(key)\n",
    "            else:\n",
    "                self._insert(key, node.right)\n",
    "\n",
    "    def search(self, key):\n",
    "        return self._search(key, self.root)\n",
    "\n",
    "    def _search(self, key, node):\n",
    "        if node is None or node.val == key:\n",
    "            return node\n",
    "        elif key < node.val:\n",
    "            return self._search(key, node.left)\n",
    "        else:\n",
    "            return self._search(key, node.right)\n",
    "\n",
    "    def _find_min(self, node):\n",
    "        current = node\n",
    "        while current.left is not None:\n",
    "            current = current.left\n",
    "        return current\n",
    "\n",
    "    def delete(self, key):\n",
    "        self.root = self._delete(key, self.root)\n",
    "\n",
    "    def _delete(self, key, node):\n",
    "        if node is None:\n",
    "            return node\n",
    "        if key < node.val:\n",
    "            node.left = self._delete(key, node.left)\n",
    "        elif key > node.val:\n",
    "            node.right = self._delete(key, node.right)\n",
    "        else:\n",
    "            if node.left is None:\n",
    "                return node.right\n",
    "            elif node.right is None:\n",
    "                return node.left\n",
    "            temp = self._find_min(node.right)\n",
    "            node.val = temp.val\n",
    "            node.right = self._delete(temp.val, node.right)\n",
    "        return node\n",
    "\n",
    "    def print_tree(self):\n",
    "        result = []\n",
    "        self._print_tree(self.root, result)\n",
    "        return result\n",
    "\n",
    "    def _print_tree(self, node, result):\n",
    "        if node:\n",
    "            self._print_tree(node.left, result)\n",
    "            result.append(node.val)\n",
    "            self._print_tree(node.right, result)\n",
    "\n",
    "\n",
    "# Тестирование бинарного дерева\n",
    "bst = BinaryTree()\n",
    "for num in [12, 32, 78, 23, 14, 56]:\n",
    "    bst.insert(num)\n",
    "print(\"Бинарное дерево (in-order):\", bst.print_tree())"
   ]
  },
  {
   "cell_type": "code",
   "execution_count": 5,
   "metadata": {},
   "outputs": [],
   "source": [
    "# Фибоначчиев поиск\n",
    "def fibonacci_search(arr, x):\n",
    "    fib2, fib1 = 0, 1\n",
    "    fib = fib1 + fib2\n",
    "    while fib < len(arr):\n",
    "        fib2, fib1 = fib1, fib\n",
    "        fib = fib1 + fib2\n",
    "    offset = -1\n",
    "    while fib > 1:\n",
    "        i = min(offset + fib2, len(arr) - 1)\n",
    "        if arr[i] < x:\n",
    "            fib, fib1 = fib1, fib2\n",
    "            fib2 = fib - fib1\n",
    "            offset = i\n",
    "        elif arr[i] > x:\n",
    "            fib, fib1 = fib2, fib1 - fib2\n",
    "            fib2 = fib - fib1\n",
    "        else:\n",
    "            return i\n",
    "    if fib1 and arr[offset + 1] == x:\n",
    "        return offset + 1\n",
    "    return -1"
   ]
  },
  {
   "cell_type": "code",
   "execution_count": 6,
   "metadata": {},
   "outputs": [],
   "source": [
    "# Интерполяционный поиск\n",
    "def interpolation_search(arr, x):\n",
    "    low, high = 0, len(arr) - 1\n",
    "    while low <= high and arr[low] <= x <= arr[high]:\n",
    "        if low == high:\n",
    "            if arr[low] == x:\n",
    "                return low\n",
    "            return -1\n",
    "        pos = low + ((x - arr[low]) * (high - low) // (arr[high] - arr[low]))\n",
    "        if arr[pos] == x:\n",
    "            return pos\n",
    "        if arr[pos] < x:\n",
    "            low = pos + 1\n",
    "        else:\n",
    "            high = pos - 1\n",
    "    return -1"
   ]
  },
  {
   "cell_type": "code",
   "execution_count": 20,
   "metadata": {},
   "outputs": [
    {
     "name": "stdout",
     "output_type": "stream",
     "text": [
      "Бинарный поиск: 2.789997961372137e-05 секунд\n",
      "Бинарное дерево: 5.8999983593821526e-05 секунд\n",
      "Фибоначчиев поиск: 2.5300076231360435e-05 секунд\n",
      "Интерполяционный поиск: 1.7900019884109497e-05 секунд\n",
      "Стандартный поиск: 1.5600002370774746e-05 секунд\n"
     ]
    }
   ],
   "source": [
    "# Измерение времени работы алгоритмов\n",
    "starttime = timeit.default_timer()\n",
    "binary_search(array, find_elem)\n",
    "endtime = timeit.default_timer()\n",
    "print(\"Бинарный поиск:\", endtime - starttime, \"секунд\")\n",
    "\n",
    "starttime = timeit.default_timer()\n",
    "bst.search(find_elem)\n",
    "endtime = timeit.default_timer()\n",
    "print(\"Бинарное дерево:\", endtime - starttime, \"секунд\")\n",
    "\n",
    "starttime = timeit.default_timer()\n",
    "fibonacci_search(array, find_elem)\n",
    "endtime = timeit.default_timer()\n",
    "print(\"Фибоначчиев поиск:\", endtime - starttime, \"секунд\")\n",
    "\n",
    "starttime = timeit.default_timer()\n",
    "interpolation_search(array, find_elem)\n",
    "endtime = timeit.default_timer()\n",
    "print(\"Интерполяционный поиск:\", endtime - starttime, \"секунд\")\n",
    "\n",
    "starttime = timeit.default_timer()\n",
    "array.index(find_elem)\n",
    "endtime = timeit.default_timer()\n",
    "print(\"Стандартный поиск:\", endtime - starttime, \"секунд\")"
   ]
  },
  {
   "cell_type": "markdown",
   "metadata": {},
   "source": [
    "### Задание 2"
   ]
  },
  {
   "cell_type": "code",
   "execution_count": 21,
   "metadata": {},
   "outputs": [],
   "source": [
    "# Простое рехэширование\n",
    "class HashTableP:\n",
    "    def __init__(self):\n",
    "        self.size = 10\n",
    "        self.keys = [None] * self.size\n",
    "        self.values = [None] * self.size\n",
    "\n",
    "    def hash_function(self, key):\n",
    "        return key % self.size\n",
    "\n",
    "    def put(self, key, data):\n",
    "        index = self.hash_function(key)\n",
    "        while self.keys[index] is not None:\n",
    "            if self.keys[index] == key:\n",
    "                self.values[index] = data\n",
    "                return\n",
    "            index = (index + 1) % self.size\n",
    "        self.keys[index] = key\n",
    "        self.values[index] = data\n",
    "\n",
    "    def get(self, key):\n",
    "        index = self.hash_function(key)\n",
    "        while self.keys[index] is not None:\n",
    "            if self.keys[index] == key:\n",
    "                return self.values[index]\n",
    "            index = (index + 1) % self.size\n",
    "        return None\n",
    "\n",
    "    def delete(self, key):\n",
    "        index = self.hash_function(key)\n",
    "        while self.keys[index] is not None:\n",
    "            if self.keys[index] == key:\n",
    "                self.keys[index] = None\n",
    "                self.values[index] = None\n",
    "                return\n",
    "            index = (index + 1) % self.size"
   ]
  },
  {
   "cell_type": "code",
   "execution_count": 27,
   "metadata": {},
   "outputs": [],
   "source": [
    "# Рехэширование с псевдослучайными числами\n",
    "class HashTableR:\n",
    "    def __init__(self):\n",
    "        self.size = 10\n",
    "        self.keys = [None] * self.size\n",
    "        self.values = [None] * self.size\n",
    "\n",
    "    def random_function(self):\n",
    "        return random.randint(1, self.size - 1)\n",
    "\n",
    "    def put(self, key, data):\n",
    "        index = key % self.size\n",
    "        while self.keys[index] is not None:\n",
    "            if self.keys[index] == key:\n",
    "                self.values[index] = data\n",
    "                return\n",
    "            index = (index + self.random_function()) % self.size\n",
    "        self.keys[index] = key\n",
    "        self.values[index] = data\n",
    "\n",
    "    def get(self, key):\n",
    "        index = key % self.size\n",
    "        while self.keys[index] is not None:\n",
    "            if self.keys[index] == key:\n",
    "                return self.values[index]\n",
    "            index = (index + self.random_function()) % self.size\n",
    "        return None\n",
    "\n",
    "    def delete(self, key):\n",
    "        index = key % self.size\n",
    "        while self.keys[index] is not None:\n",
    "            if self.keys[index] == key:\n",
    "                self.keys[index] = None\n",
    "                self.values[index] = None\n",
    "                return\n",
    "            index = (index + self.random_function()) % self.size"
   ]
  },
  {
   "cell_type": "code",
   "execution_count": 26,
   "metadata": {},
   "outputs": [],
   "source": [
    "# Метод цепочек\n",
    "class HashTableChain:\n",
    "    class Node:\n",
    "        def __init__(self, key, value):\n",
    "            self.key = key\n",
    "            self.value = value\n",
    "            self.next = None\n",
    "\n",
    "    def __init__(self):\n",
    "        self.capacity = 10\n",
    "        self.buckets = [None] * self.capacity\n",
    "\n",
    "    def put(self, key, value):\n",
    "        index = hash(key) % self.capacity\n",
    "        new_node = self.Node(key, value)\n",
    "        if not self.buckets[index]:\n",
    "            self.buckets[index] = new_node\n",
    "        else:\n",
    "            current = self.buckets[index]\n",
    "            while current.next:\n",
    "                if current.key == key:\n",
    "                    current.value = value\n",
    "                    return\n",
    "                current = current.next\n",
    "            current.next = new_node\n",
    "\n",
    "    def get(self, key):\n",
    "        index = hash(key) % self.capacity\n",
    "        current = self.buckets[index]\n",
    "        while current:\n",
    "            if current.key == key:\n",
    "                return current.value\n",
    "            current = current.next\n",
    "        return None\n",
    "\n",
    "    def delete(self, key):\n",
    "        index = hash(key) % self.capacity\n",
    "        current = self.buckets[index]\n",
    "        prev = None\n",
    "        while current:\n",
    "            if current.key == key:\n",
    "                if prev:\n",
    "                    prev.next = current.next\n",
    "                else:\n",
    "                    self.buckets[index] = current.next\n",
    "                return\n",
    "            prev = current\n",
    "            current = current.next"
   ]
  },
  {
   "cell_type": "code",
   "execution_count": 46,
   "metadata": {},
   "outputs": [
    {
     "name": "stdout",
     "output_type": "stream",
     "text": [
      "Простое рехэширование:\n",
      "a\n",
      "b\n",
      "c\n",
      "d\n",
      "\n",
      "Метод цепочек:\n",
      "a\n",
      "b\n",
      "c\n",
      "d\n",
      "\n",
      "Рехэширование с псевдослучайными числами:\n",
      "a\n",
      "b\n",
      "None\n",
      "d\n"
     ]
    }
   ],
   "source": [
    "# Хеш-таблицы\n",
    "print(\"Простое рехэширование:\")\n",
    "table_p = HashTableP()\n",
    "for key, value in [(1, \"a\"), (2, \"b\"), (11, \"c\"), (21, \"d\")]:\n",
    "    table_p.put(key, value)\n",
    "print(table_p.get(1))\n",
    "print(table_p.get(2))\n",
    "print(table_p.get(11))\n",
    "print(table_p.get(21))\n",
    "\n",
    "print(\"\\nМетод цепочек:\")\n",
    "table_chain = HashTableChain()\n",
    "for key, value in [(1, \"a\"), (2, \"b\"), (11, \"c\"), (21, \"d\")]:\n",
    "    table_chain.put(key, value)\n",
    "print(table_chain.get(1))\n",
    "print(table_chain.get(2))\n",
    "print(table_chain.get(11))\n",
    "print(table_chain.get(21))\n",
    "\n",
    "print(\"\\nРехэширование с псевдослучайными числами:\")\n",
    "table_r = HashTableR()\n",
    "for key, value in [(1, \"a\"), (2, \"b\"), (11, \"c\"), (21, \"d\")]:\n",
    "    table_r.put(key, value)\n",
    "print(table_r.get(1))\n",
    "print(table_r.get(2))\n",
    "print(table_r.get(11))\n",
    "print(table_r.get(21))"
   ]
  },
  {
   "cell_type": "markdown",
   "metadata": {},
   "source": [
    "### Задание 3"
   ]
  },
  {
   "cell_type": "code",
   "execution_count": 47,
   "metadata": {},
   "outputs": [
    {
     "name": "stdout",
     "output_type": "stream",
     "text": [
      "Q - - - - - - -\n",
      "- - - - Q - - -\n",
      "- - - - - - - Q\n",
      "- - - - - Q - -\n",
      "- - Q - - - - -\n",
      "- - - - - - Q -\n",
      "- Q - - - - - -\n",
      "- - - Q - - - -\n"
     ]
    }
   ],
   "source": [
    "# Задача о восьми ферзях\n",
    "def chess():\n",
    "    board = [['-' for _ in range(8)] for _ in range(8)]\n",
    "    cols = set()\n",
    "    pos_diagonals = set()\n",
    "    neg_diagonals = set()\n",
    "\n",
    "    def place_queen(row):\n",
    "        if row == 8:\n",
    "            return True\n",
    "        for col in range(8):\n",
    "            if col not in cols and (row + col) not in pos_diagonals and (row - col) not in neg_diagonals:\n",
    "                board[row][col] = 'Q'\n",
    "                cols.add(col)\n",
    "                pos_diagonals.add(row + col)\n",
    "                neg_diagonals.add(row - col)\n",
    "                if place_queen(row + 1):\n",
    "                    return True\n",
    "                board[row][col] = '-'\n",
    "                cols.remove(col)\n",
    "                pos_diagonals.remove(row + col)\n",
    "                neg_diagonals.remove(row - col)\n",
    "        return False\n",
    "\n",
    "    place_queen(0)\n",
    "    for row in board:\n",
    "        print(' '.join(row))\n",
    "\n",
    "\n",
    "chess()"
   ]
  }
 ],
 "metadata": {
  "colab": {
   "name": "Lab6.ipynb",
   "provenance": []
  },
  "kernelspec": {
   "display_name": "Python 3",
   "language": "python",
   "name": "python3"
  },
  "language_info": {
   "codemirror_mode": {
    "name": "ipython",
    "version": 3
   },
   "file_extension": ".py",
   "mimetype": "text/x-python",
   "name": "python",
   "nbconvert_exporter": "python",
   "pygments_lexer": "ipython3",
   "version": "3.12.3"
  }
 },
 "nbformat": 4,
 "nbformat_minor": 1
}
